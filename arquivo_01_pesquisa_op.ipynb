{
  "nbformat": 4,
  "nbformat_minor": 0,
  "metadata": {
    "colab": {
      "provenance": [],
      "authorship_tag": "ABX9TyM2pGDrEwaKct00GWF7lVI+",
      "include_colab_link": true
    },
    "kernelspec": {
      "name": "python3",
      "display_name": "Python 3"
    },
    "language_info": {
      "name": "python"
    }
  },
  "cells": [
    {
      "cell_type": "markdown",
      "metadata": {
        "id": "view-in-github",
        "colab_type": "text"
      },
      "source": [
        "<a href=\"https://colab.research.google.com/github/ramonis567/desafio_suzano_otimizacao/blob/main/arquivo_01_pesquisa_op.ipynb\" target=\"_parent\"><img src=\"https://colab.research.google.com/assets/colab-badge.svg\" alt=\"Open In Colab\"/></a>"
      ]
    },
    {
      "cell_type": "markdown",
      "source": [
        "# DESAFIO SUZANO - OTIMIZAÇÃO"
      ],
      "metadata": {
        "id": "VyZKsPOeYdoE"
      }
    },
    {
      "cell_type": "markdown",
      "source": [
        "## Introdução ao Pyomo"
      ],
      "metadata": {
        "id": "9criSUPnYoEH"
      }
    },
    {
      "cell_type": "markdown",
      "source": [
        "### **PyOmo - Python Optimization Modeling Objects**\n",
        "\n",
        "- Pacote open source em python para modelagem e otimização\n",
        "- Definição de problemas simbólicos genéricos\n",
        "- Compatível com solvers abertos (GLPK, CBC, etc...) e comerciais (Gurobi, Cplex, etc..)\n",
        "- Didático na forma como os componentes são definidos\n",
        "- Pode ser lento p/ construção de instâncias muito grandes (por python ser interpretada)\n",
        "---\n",
        "##### **Modelo**:\n",
        "\n",
        "A instância básica - ConcreteModel x Abstract Model:\n",
        "\n",
        "*   Recebe como atributo os componentes da modelagem\n",
        "*   ConcreteModel -> Parâmetros inicializados a priori\n",
        "*   AbstractModel -> Inicializados após a construção\n",
        "\n",
        "```\n",
        "import pyomo.environ as pyo\n",
        "```\n",
        "```\n",
        "model = pyo.ConcreteModel()\n",
        "# OU\n",
        "model = py.AbstractModel()\n",
        "```\n",
        "```\n",
        "instance = model.create_instance()\n",
        "```\n",
        "\n",
        "##### **Conjuntos**:\n",
        "\n",
        "Set(*args, **kwargs)\n",
        "\n",
        "* Definem conjuntos de criação de demais componentes (parâmetros, variáveis, expressões e restrições)\n",
        "* Inicializados a partir de iteráveis\n",
        "* Podem ou não ser ordenados\n",
        "* Possuem operações especiais de conjuntos\n",
        "\n",
        "```\n",
        "model = pyo.ConcreteModel()\n",
        "model.I = pyo.Set(initialize=[0, 1, 2], ordened=True)\n",
        "model.x = pyo.Var(model.I)\n",
        "```\n",
        "\n",
        "##### **Parâmetros**:\n",
        "Param(*args, **kwargs)\n",
        "\n",
        "* Definem valores fixos característicos de instâncias do modelo\n",
        "* Podem ou não ser indexados\n",
        "\n",
        "```\n",
        "model = pyo.ConcreteModel()\n",
        "model.I = pyo.Set(initialize=[0, 1, 2], ordened=True)\n",
        "p_dict = {0: 12, 1: 42, 2: 13}\n",
        "model.p = pyo.Param(model.I, initialize = p_dict)\n",
        "model.k = pyo.Param(initialize = 15)\n",
        "```\n",
        "\n",
        "##### **Variáveis**:\n",
        "Var(*args, **kwargs)\n",
        "\n",
        "* Variáveis do modelo de otimização\n",
        "* Utilizadas em expressões de pyomo presentes em costraints e objetives\n",
        "* Pode-se especificar o domínio (binário, inteiro, etc) das variáveis e bounds durante a criação\n",
        "* Podem ser indexadas ou não\n",
        "\n",
        "```\n",
        "model = pyo.ConcreteModel()\n",
        "model.I = pyo.Set(initialize=[0, 1], ordened=True)\n",
        "model.x = pyo.Var(model.I, within = pyo.Binary)\n",
        "model.c = pyo.Constraint(expr = model.x[0]...)\n",
        "```\n",
        "\n",
        "##### **Expressões**:\n",
        "Expression(*args, **kwargs)\n",
        "\n",
        "* Operações matemáticas entre variáveis\n",
        "* Criação de regras de restrições e objetivos\n",
        "* Podem ser indexadas ou não\n",
        "* Se forem indexadas, devem ser instanciadas a partir de uma função de assinatura fun(model, *args)\n",
        "\n",
        "```\n",
        "model = pyo.ConcreteModel()\n",
        "model.I = pyo.Set(initialize=[0, 1], ordened=True)\n",
        "model.x = pyo.Var(model.I, within = pyo.Binary)\n",
        "\n",
        "def my_exp(model, i):\n",
        "  return model.x[i]+1\n",
        "\n",
        "model.exp = pyo.Expression(model.I, rule= my_exp)\n",
        "```\n",
        "\n",
        "##### **Restrições**:\n",
        "Constraint(*args, **kwargs)\n",
        "\n",
        "* Operações matemáticas entre variáveis\n",
        "* Criação de regras de restrições e objetivos\n",
        "* Podem ser indexadas ou não\n",
        "* Se forem indexadas, devem ser instanciadas a partir de uma função de assinatura fun(model, *args)\n",
        "\n",
        "```\n",
        "model = pyo.ConcreteModel()\n",
        "model.I = pyo.Set(initialize=[0, 1], ordened=True)\n",
        "model.x = pyo.Var(model.I, within = pyo.Binary)\n",
        "\n",
        "def my_cstr(model, i):\n",
        "  return model.x[i] + 1 >= 0\n",
        "\n",
        "model.exp = pyo.Constraint(model.I, rule= my_cstr)\n",
        "```\n",
        "\n",
        "##### **Objetivos**:\n",
        "Objective(**kwargs)\n",
        "\n",
        "* Utiliza alguma expressão pyomo passada como rule ou expr\n",
        "* Minimização (sense = pyomo.minimize(1)) ou maximização (sense = pyo.maximize(-1))\n",
        "* Podem alternar entre diferentes objetivos ativando sempre um por vez (activate e deactivate)\n",
        "\n",
        "```\n",
        "model = pyo.ConcreteModel()\n",
        "model.I = pyo.Set(initialize=[0, 1], ordened=True)\n",
        "model.x = pyo.Var(model.I, within = pyo.Binary)\n",
        "\n",
        "def obj(model):\n",
        "  return sum(model.x[i] for i in model.I)\n",
        "\n",
        "model.exp = pyo.Objective(rule= obj)\n",
        "```"
      ],
      "metadata": {
        "id": "JY3YsPhmYsRs"
      }
    },
    {
      "cell_type": "code",
      "execution_count": null,
      "metadata": {
        "id": "9zGdLXbWUGTp"
      },
      "outputs": [],
      "source": []
    },
    {
      "cell_type": "code",
      "source": [],
      "metadata": {
        "id": "3X8kDCstYtDd"
      },
      "execution_count": null,
      "outputs": []
    }
  ]
}